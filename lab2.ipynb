{
 "cells": [
  {
   "cell_type": "code",
   "execution_count": 1,
   "metadata": {},
   "outputs": [],
   "source": [
    "from tensorflow.keras.datasets import cifar10\n",
    "from tensorflow.keras.models import Sequential\n",
    "from tensorflow.keras.layers import Dense\n",
    "from tensorflow.keras import utils\n",
    "from tensorflow.keras.optimizers import SGD\n",
    "import numpy as np\n",
    "import matplotlib.pyplot as plt\n",
    "%matplotlib inline"
   ]
  },
  {
   "cell_type": "markdown",
   "metadata": {},
   "source": [
    "### Загружаем данные"
   ]
  },
  {
   "cell_type": "code",
   "execution_count": 2,
   "metadata": {},
   "outputs": [],
   "source": [
    "(x_train, y_train), (x_test, y_test) = cifar10.load_data()"
   ]
  },
  {
   "cell_type": "code",
   "execution_count": 4,
   "metadata": {},
   "outputs": [],
   "source": [
    "batch_size = 128 # Размер мини-выборки\n",
    "classes = 10 # Количество классов изображений\n",
    "epochs = 10 # Количество эпох для обучения\n",
    "img_rows, img_cols = 32, 32 # Размер изображений\n",
    "img_channels = 3 # Количество каналов в изображении: RGB\n",
    "learning_rate = 0.1 # Параметр скорости обучения"
   ]
  },
  {
   "cell_type": "code",
   "execution_count": 5,
   "metadata": {},
   "outputs": [],
   "source": [
    "# Преобразование размерности изображений\n",
    "x_train = x_train.reshape(50000, 3072)\n",
    "x_test = x_test.reshape(10000, 3072)"
   ]
  },
  {
   "cell_type": "code",
   "execution_count": 6,
   "metadata": {},
   "outputs": [],
   "source": [
    "# Нормализуем данные\n",
    "x_train = x_train.astype('float32') / 255\n",
    "x_test = x_test.astype('float32') / 255"
   ]
  },
  {
   "cell_type": "code",
   "execution_count": 7,
   "metadata": {},
   "outputs": [],
   "source": [
    "# Преобразуем метки в категории\n",
    "y_train = utils.to_categorical(y_train, classes)\n",
    "y_test = utils.to_categorical(y_test, classes)"
   ]
  },
  {
   "cell_type": "markdown",
   "metadata": {},
   "source": [
    "### Создаём модель"
   ]
  },
  {
   "cell_type": "code",
   "execution_count": 8,
   "metadata": {},
   "outputs": [],
   "source": [
    "# Создаем последовательную модель\n",
    "model = Sequential()"
   ]
  },
  {
   "cell_type": "code",
   "execution_count": 9,
   "metadata": {},
   "outputs": [
    {
     "name": "stdout",
     "output_type": "stream",
     "text": [
      "WARNING:tensorflow:From C:\\Users\\sashk\\Anaconda3\\lib\\site-packages\\tensorflow_core\\python\\ops\\resource_variable_ops.py:1630: calling BaseResourceVariable.__init__ (from tensorflow.python.ops.resource_variable_ops) with constraint is deprecated and will be removed in a future version.\n",
      "Instructions for updating:\n",
      "If using Keras pass *_constraint arguments to layers.\n"
     ]
    }
   ],
   "source": [
    "# Добавляем уровни сети\n",
    "model.add(Dense(512, activation='relu', input_shape=(3072,) ))\n",
    "model.add(Dense(10, activation='softmax'))"
   ]
  },
  {
   "cell_type": "code",
   "execution_count": 10,
   "metadata": {},
   "outputs": [],
   "source": [
    "# Компилируем модель\n",
    "sgd = SGD(lr=learning_rate)\n",
    "model.compile(loss='categorical_crossentropy', optimizer=sgd, metrics = [\"accuracy\"])"
   ]
  },
  {
   "cell_type": "code",
   "execution_count": 11,
   "metadata": {},
   "outputs": [
    {
     "name": "stdout",
     "output_type": "stream",
     "text": [
      "Model: \"sequential\"\n",
      "_________________________________________________________________\n",
      "Layer (type)                 Output Shape              Param #   \n",
      "=================================================================\n",
      "dense (Dense)                (None, 512)               1573376   \n",
      "_________________________________________________________________\n",
      "dense_1 (Dense)              (None, 10)                5130      \n",
      "=================================================================\n",
      "Total params: 1,578,506\n",
      "Trainable params: 1,578,506\n",
      "Non-trainable params: 0\n",
      "_________________________________________________________________\n",
      "None\n"
     ]
    }
   ],
   "source": [
    "# Структура сети\n",
    "print(model.summary())"
   ]
  },
  {
   "cell_type": "markdown",
   "metadata": {},
   "source": [
    "### Обучаем модель"
   ]
  },
  {
   "cell_type": "code",
   "execution_count": 12,
   "metadata": {},
   "outputs": [
    {
     "name": "stdout",
     "output_type": "stream",
     "text": [
      "Train on 40000 samples, validate on 10000 samples\n",
      "Epoch 1/10\n",
      "40000/40000 [==============================] - 4s 89us/sample - loss: 2.0272 - acc: 0.2770 - val_loss: 2.0978 - val_acc: 0.2434\n",
      "Epoch 2/10\n",
      "40000/40000 [==============================] - 3s 71us/sample - loss: 1.8012 - acc: 0.3559 - val_loss: 1.7576 - val_acc: 0.3798\n",
      "Epoch 3/10\n",
      "40000/40000 [==============================] - 3s 74us/sample - loss: 1.7286 - acc: 0.3835 - val_loss: 1.6739 - val_acc: 0.4105\n",
      "Epoch 4/10\n",
      "40000/40000 [==============================] - 3s 74us/sample - loss: 1.6721 - acc: 0.4041 - val_loss: 1.6550 - val_acc: 0.4160\n",
      "Epoch 5/10\n",
      "40000/40000 [==============================] - 3s 65us/sample - loss: 1.6336 - acc: 0.4200 - val_loss: 1.7141 - val_acc: 0.3792\n",
      "Epoch 6/10\n",
      "40000/40000 [==============================] - 3s 65us/sample - loss: 1.5877 - acc: 0.4355 - val_loss: 1.6896 - val_acc: 0.4034\n",
      "Epoch 7/10\n",
      "40000/40000 [==============================] - 3s 68us/sample - loss: 1.5639 - acc: 0.4453 - val_loss: 1.6878 - val_acc: 0.3899\n",
      "Epoch 8/10\n",
      "40000/40000 [==============================] - 3s 78us/sample - loss: 1.5347 - acc: 0.4570 - val_loss: 1.6783 - val_acc: 0.4032\n",
      "Epoch 9/10\n",
      "40000/40000 [==============================] - 3s 70us/sample - loss: 1.5165 - acc: 0.4608 - val_loss: 1.8338 - val_acc: 0.3554\n",
      "Epoch 10/10\n",
      "40000/40000 [==============================] - 3s 72us/sample - loss: 1.4865 - acc: 0.4734 - val_loss: 1.6681 - val_acc: 0.3988\n"
     ]
    }
   ],
   "source": [
    "# Обучаем сеть\n",
    "history = model.fit(x_train, y_train, batch_size=batch_size, epochs=epochs, validation_split=0.2, shuffle = True, verbose=1)"
   ]
  },
  {
   "cell_type": "code",
   "execution_count": 13,
   "metadata": {},
   "outputs": [
    {
     "data": {
      "image/png": "[encoded data removed]",
      "text/plain": [
       "<Figure size 432x288 with 1 Axes>"
      ]
     },
     "metadata": {
      "needs_background": "light"
     },
     "output_type": "display_data"
    }
   ],
   "source": [
    "plt.plot(history.history['acc'], label='Доля верных ответов на обучающем наборе')\n",
    "plt.plot(history.history['val_acc'], label='Доля верных ответов на проверочном наборе')\n",
    "plt.xlabel('Эпоха обучения')\n",
    "plt.ylabel('Доля верных ответов')\n",
    "plt.legend()\n",
    "plt.show()"
   ]
  },
  {
   "cell_type": "markdown",
   "metadata": {},
   "source": [
    "### Запускаем на тестовых данных"
   ]
  },
  {
   "cell_type": "code",
   "execution_count": 14,
   "metadata": {},
   "outputs": [
    {
     "name": "stdout",
     "output_type": "stream",
     "text": [
      "Точность работы на тестовых данных: 40.53%\n"
     ]
    }
   ],
   "source": [
    "# Оцениваем качество обучения сети на тестовых данных\n",
    "scores = model.evaluate(x_test, y_test, verbose=0)\n",
    "print(\"Точность работы на тестовых данных: %.2f%%\" % (scores[1]*100))"
   ]
  },
  {
   "cell_type": "code",
   "execution_count": null,
   "metadata": {},
   "outputs": [],
   "source": []
  }
 ],
 "metadata": {
  "kernelspec": {
   "display_name": "Python 3",
   "language": "python",
   "name": "python3"
  },
  "language_info": {
   "codemirror_mode": {
    "name": "ipython",
    "version": 3
   },
   "file_extension": ".py",
   "mimetype": "text/x-python",
   "name": "python",
   "nbconvert_exporter": "python",
   "pygments_lexer": "ipython3",
   "version": "3.7.1"
  }
 },
 "nbformat": 4,
 "nbformat_minor": 4
}
